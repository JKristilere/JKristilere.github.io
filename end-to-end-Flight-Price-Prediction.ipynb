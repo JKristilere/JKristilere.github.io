{
 "cells": [
  {
   "cell_type": "markdown",
   "id": "f4f38f5b-d72b-4734-bc52-9f531f7cc344",
   "metadata": {},
   "source": [
    "# Predicting Flight Prices Using Regression Machine Learning Model\n",
    "This project involves studying flight booking dataset obtained from the *Easemytrip* website to conduct various analysis on the dataset to draw meaningful information from the data to determine factors which influence the change in price of various flights, as well building a machine learning model capable of predicting flight prices based on various factors surrounding fight bookings."
   ]
  },
  {
   "cell_type": "markdown",
   "id": "e3e43478-c732-408e-8070-5b2f662c82e5",
   "metadata": {},
   "source": [
    "## Preparing the tools we need"
   ]
  },
  {
   "cell_type": "code",
   "execution_count": 1,
   "id": "52a9447d-2ed0-4c22-911a-54ea4af5bb17",
   "metadata": {},
   "outputs": [],
   "source": [
    "# Importing the neccesary tools and libraries needed\n",
    "\n",
    "# Data Manipulation and Exploratory Data Analysis (EDA)\n",
    "import pandas as pd\n",
    "import numpy as np\n",
    "import matplotlib.pyplot as plt\n",
    "import seaborn as sns\n",
    "%matplotlib inline\n"
   ]
  },
  {
   "cell_type": "code",
   "execution_count": 2,
   "id": "51f2d4fb-565a-466e-a753-f910f2023142",
   "metadata": {},
   "outputs": [
    {
     "data": {
      "text/html": [
       "<div>\n",
       "<style scoped>\n",
       "    .dataframe tbody tr th:only-of-type {\n",
       "        vertical-align: middle;\n",
       "    }\n",
       "\n",
       "    .dataframe tbody tr th {\n",
       "        vertical-align: top;\n",
       "    }\n",
       "\n",
       "    .dataframe thead th {\n",
       "        text-align: right;\n",
       "    }\n",
       "</style>\n",
       "<table border=\"1\" class=\"dataframe\">\n",
       "  <thead>\n",
       "    <tr style=\"text-align: right;\">\n",
       "      <th></th>\n",
       "      <th>airline</th>\n",
       "      <th>flight</th>\n",
       "      <th>source_city</th>\n",
       "      <th>departure_time</th>\n",
       "      <th>stops</th>\n",
       "      <th>arrival_time</th>\n",
       "      <th>destination_city</th>\n",
       "      <th>class</th>\n",
       "      <th>duration</th>\n",
       "      <th>days_left</th>\n",
       "      <th>price</th>\n",
       "    </tr>\n",
       "  </thead>\n",
       "  <tbody>\n",
       "    <tr>\n",
       "      <th>0</th>\n",
       "      <td>SpiceJet</td>\n",
       "      <td>SG-8709</td>\n",
       "      <td>Delhi</td>\n",
       "      <td>Evening</td>\n",
       "      <td>zero</td>\n",
       "      <td>Night</td>\n",
       "      <td>Mumbai</td>\n",
       "      <td>Economy</td>\n",
       "      <td>2.17</td>\n",
       "      <td>1</td>\n",
       "      <td>5953</td>\n",
       "    </tr>\n",
       "    <tr>\n",
       "      <th>1</th>\n",
       "      <td>SpiceJet</td>\n",
       "      <td>SG-8157</td>\n",
       "      <td>Delhi</td>\n",
       "      <td>Early_Morning</td>\n",
       "      <td>zero</td>\n",
       "      <td>Morning</td>\n",
       "      <td>Mumbai</td>\n",
       "      <td>Economy</td>\n",
       "      <td>2.33</td>\n",
       "      <td>1</td>\n",
       "      <td>5953</td>\n",
       "    </tr>\n",
       "    <tr>\n",
       "      <th>2</th>\n",
       "      <td>AirAsia</td>\n",
       "      <td>I5-764</td>\n",
       "      <td>Delhi</td>\n",
       "      <td>Early_Morning</td>\n",
       "      <td>zero</td>\n",
       "      <td>Early_Morning</td>\n",
       "      <td>Mumbai</td>\n",
       "      <td>Economy</td>\n",
       "      <td>2.17</td>\n",
       "      <td>1</td>\n",
       "      <td>5956</td>\n",
       "    </tr>\n",
       "    <tr>\n",
       "      <th>3</th>\n",
       "      <td>Vistara</td>\n",
       "      <td>UK-995</td>\n",
       "      <td>Delhi</td>\n",
       "      <td>Morning</td>\n",
       "      <td>zero</td>\n",
       "      <td>Afternoon</td>\n",
       "      <td>Mumbai</td>\n",
       "      <td>Economy</td>\n",
       "      <td>2.25</td>\n",
       "      <td>1</td>\n",
       "      <td>5955</td>\n",
       "    </tr>\n",
       "    <tr>\n",
       "      <th>4</th>\n",
       "      <td>Vistara</td>\n",
       "      <td>UK-963</td>\n",
       "      <td>Delhi</td>\n",
       "      <td>Morning</td>\n",
       "      <td>zero</td>\n",
       "      <td>Morning</td>\n",
       "      <td>Mumbai</td>\n",
       "      <td>Economy</td>\n",
       "      <td>2.33</td>\n",
       "      <td>1</td>\n",
       "      <td>5955</td>\n",
       "    </tr>\n",
       "    <tr>\n",
       "      <th>5</th>\n",
       "      <td>Vistara</td>\n",
       "      <td>UK-945</td>\n",
       "      <td>Delhi</td>\n",
       "      <td>Morning</td>\n",
       "      <td>zero</td>\n",
       "      <td>Afternoon</td>\n",
       "      <td>Mumbai</td>\n",
       "      <td>Economy</td>\n",
       "      <td>2.33</td>\n",
       "      <td>1</td>\n",
       "      <td>5955</td>\n",
       "    </tr>\n",
       "    <tr>\n",
       "      <th>6</th>\n",
       "      <td>Vistara</td>\n",
       "      <td>UK-927</td>\n",
       "      <td>Delhi</td>\n",
       "      <td>Morning</td>\n",
       "      <td>zero</td>\n",
       "      <td>Morning</td>\n",
       "      <td>Mumbai</td>\n",
       "      <td>Economy</td>\n",
       "      <td>2.08</td>\n",
       "      <td>1</td>\n",
       "      <td>6060</td>\n",
       "    </tr>\n",
       "    <tr>\n",
       "      <th>7</th>\n",
       "      <td>Vistara</td>\n",
       "      <td>UK-951</td>\n",
       "      <td>Delhi</td>\n",
       "      <td>Afternoon</td>\n",
       "      <td>zero</td>\n",
       "      <td>Evening</td>\n",
       "      <td>Mumbai</td>\n",
       "      <td>Economy</td>\n",
       "      <td>2.17</td>\n",
       "      <td>1</td>\n",
       "      <td>6060</td>\n",
       "    </tr>\n",
       "    <tr>\n",
       "      <th>8</th>\n",
       "      <td>GO_FIRST</td>\n",
       "      <td>G8-334</td>\n",
       "      <td>Delhi</td>\n",
       "      <td>Early_Morning</td>\n",
       "      <td>zero</td>\n",
       "      <td>Morning</td>\n",
       "      <td>Mumbai</td>\n",
       "      <td>Economy</td>\n",
       "      <td>2.17</td>\n",
       "      <td>1</td>\n",
       "      <td>5954</td>\n",
       "    </tr>\n",
       "    <tr>\n",
       "      <th>9</th>\n",
       "      <td>GO_FIRST</td>\n",
       "      <td>G8-336</td>\n",
       "      <td>Delhi</td>\n",
       "      <td>Afternoon</td>\n",
       "      <td>zero</td>\n",
       "      <td>Evening</td>\n",
       "      <td>Mumbai</td>\n",
       "      <td>Economy</td>\n",
       "      <td>2.25</td>\n",
       "      <td>1</td>\n",
       "      <td>5954</td>\n",
       "    </tr>\n",
       "  </tbody>\n",
       "</table>\n",
       "</div>"
      ],
      "text/plain": [
       "    airline   flight source_city departure_time stops   arrival_time  \\\n",
       "0  SpiceJet  SG-8709       Delhi        Evening  zero          Night   \n",
       "1  SpiceJet  SG-8157       Delhi  Early_Morning  zero        Morning   \n",
       "2   AirAsia   I5-764       Delhi  Early_Morning  zero  Early_Morning   \n",
       "3   Vistara   UK-995       Delhi        Morning  zero      Afternoon   \n",
       "4   Vistara   UK-963       Delhi        Morning  zero        Morning   \n",
       "5   Vistara   UK-945       Delhi        Morning  zero      Afternoon   \n",
       "6   Vistara   UK-927       Delhi        Morning  zero        Morning   \n",
       "7   Vistara   UK-951       Delhi      Afternoon  zero        Evening   \n",
       "8  GO_FIRST   G8-334       Delhi  Early_Morning  zero        Morning   \n",
       "9  GO_FIRST   G8-336       Delhi      Afternoon  zero        Evening   \n",
       "\n",
       "  destination_city    class  duration  days_left  price  \n",
       "0           Mumbai  Economy      2.17          1   5953  \n",
       "1           Mumbai  Economy      2.33          1   5953  \n",
       "2           Mumbai  Economy      2.17          1   5956  \n",
       "3           Mumbai  Economy      2.25          1   5955  \n",
       "4           Mumbai  Economy      2.33          1   5955  \n",
       "5           Mumbai  Economy      2.33          1   5955  \n",
       "6           Mumbai  Economy      2.08          1   6060  \n",
       "7           Mumbai  Economy      2.17          1   6060  \n",
       "8           Mumbai  Economy      2.17          1   5954  \n",
       "9           Mumbai  Economy      2.25          1   5954  "
      ]
     },
     "execution_count": 2,
     "metadata": {},
     "output_type": "execute_result"
    }
   ],
   "source": [
    "# Loading the Data\n",
    "df = pd.read_csv(\"Data/Clean_Dataset.csv\", low_memory=False)\n",
    "df.drop(\"Unnamed: 0\", axis=1, inplace=True)\n",
    "df.head(10)"
   ]
  },
  {
   "cell_type": "markdown",
   "id": "af262ad6-e206-47fa-9df5-7c272b34aa32",
   "metadata": {},
   "source": [
    "## Exploratory Data Analysis"
   ]
  },
  {
   "cell_type": "code",
   "execution_count": 3,
   "id": "3283f935-bc07-47c5-8a75-2022f1e1189e",
   "metadata": {},
   "outputs": [
    {
     "name": "stdout",
     "output_type": "stream",
     "text": [
      "<class 'pandas.core.frame.DataFrame'>\n",
      "RangeIndex: 300153 entries, 0 to 300152\n",
      "Data columns (total 11 columns):\n",
      " #   Column            Non-Null Count   Dtype  \n",
      "---  ------            --------------   -----  \n",
      " 0   airline           300153 non-null  object \n",
      " 1   flight            300153 non-null  object \n",
      " 2   source_city       300153 non-null  object \n",
      " 3   departure_time    300153 non-null  object \n",
      " 4   stops             300153 non-null  object \n",
      " 5   arrival_time      300153 non-null  object \n",
      " 6   destination_city  300153 non-null  object \n",
      " 7   class             300153 non-null  object \n",
      " 8   duration          300153 non-null  float64\n",
      " 9   days_left         300153 non-null  int64  \n",
      " 10  price             300153 non-null  int64  \n",
      "dtypes: float64(1), int64(2), object(8)\n",
      "memory usage: 25.2+ MB\n"
     ]
    }
   ],
   "source": [
    "df.info()"
   ]
  },
  {
   "cell_type": "code",
   "execution_count": 208,
   "id": "ad3ad55a-8bb5-46de-8de8-175ced5f7bd6",
   "metadata": {},
   "outputs": [
    {
     "data": {
      "text/plain": [
       "airline             0\n",
       "flight              0\n",
       "source_city         0\n",
       "departure_time      0\n",
       "stops               0\n",
       "arrival_time        0\n",
       "destination_city    0\n",
       "class               0\n",
       "duration            0\n",
       "days_left           0\n",
       "price               0\n",
       "dtype: int64"
      ]
     },
     "execution_count": 208,
     "metadata": {},
     "output_type": "execute_result"
    }
   ],
   "source": [
    "df.isnull().sum()\n",
    "\n",
    "# No null values"
   ]
  },
  {
   "cell_type": "code",
   "execution_count": 5,
   "id": "bb67fb3b-5b37-4e1b-aa4d-23411e2ffbab",
   "metadata": {},
   "outputs": [
    {
     "data": {
      "text/html": [
       "<div>\n",
       "<style scoped>\n",
       "    .dataframe tbody tr th:only-of-type {\n",
       "        vertical-align: middle;\n",
       "    }\n",
       "\n",
       "    .dataframe tbody tr th {\n",
       "        vertical-align: top;\n",
       "    }\n",
       "\n",
       "    .dataframe thead th {\n",
       "        text-align: right;\n",
       "    }\n",
       "</style>\n",
       "<table border=\"1\" class=\"dataframe\">\n",
       "  <thead>\n",
       "    <tr style=\"text-align: right;\">\n",
       "      <th></th>\n",
       "      <th>duration</th>\n",
       "      <th>days_left</th>\n",
       "      <th>price</th>\n",
       "    </tr>\n",
       "  </thead>\n",
       "  <tbody>\n",
       "    <tr>\n",
       "      <th>count</th>\n",
       "      <td>300153.000000</td>\n",
       "      <td>300153.000000</td>\n",
       "      <td>300153.000000</td>\n",
       "    </tr>\n",
       "    <tr>\n",
       "      <th>mean</th>\n",
       "      <td>12.221021</td>\n",
       "      <td>26.004751</td>\n",
       "      <td>20889.660523</td>\n",
       "    </tr>\n",
       "    <tr>\n",
       "      <th>std</th>\n",
       "      <td>7.191997</td>\n",
       "      <td>13.561004</td>\n",
       "      <td>22697.767366</td>\n",
       "    </tr>\n",
       "    <tr>\n",
       "      <th>min</th>\n",
       "      <td>0.830000</td>\n",
       "      <td>1.000000</td>\n",
       "      <td>1105.000000</td>\n",
       "    </tr>\n",
       "    <tr>\n",
       "      <th>25%</th>\n",
       "      <td>6.830000</td>\n",
       "      <td>15.000000</td>\n",
       "      <td>4783.000000</td>\n",
       "    </tr>\n",
       "    <tr>\n",
       "      <th>50%</th>\n",
       "      <td>11.250000</td>\n",
       "      <td>26.000000</td>\n",
       "      <td>7425.000000</td>\n",
       "    </tr>\n",
       "    <tr>\n",
       "      <th>75%</th>\n",
       "      <td>16.170000</td>\n",
       "      <td>38.000000</td>\n",
       "      <td>42521.000000</td>\n",
       "    </tr>\n",
       "    <tr>\n",
       "      <th>max</th>\n",
       "      <td>49.830000</td>\n",
       "      <td>49.000000</td>\n",
       "      <td>123071.000000</td>\n",
       "    </tr>\n",
       "  </tbody>\n",
       "</table>\n",
       "</div>"
      ],
      "text/plain": [
       "            duration      days_left          price\n",
       "count  300153.000000  300153.000000  300153.000000\n",
       "mean       12.221021      26.004751   20889.660523\n",
       "std         7.191997      13.561004   22697.767366\n",
       "min         0.830000       1.000000    1105.000000\n",
       "25%         6.830000      15.000000    4783.000000\n",
       "50%        11.250000      26.000000    7425.000000\n",
       "75%        16.170000      38.000000   42521.000000\n",
       "max        49.830000      49.000000  123071.000000"
      ]
     },
     "execution_count": 5,
     "metadata": {},
     "output_type": "execute_result"
    }
   ],
   "source": [
    "df.describe()"
   ]
  },
  {
   "cell_type": "markdown",
   "id": "8bffaa92-a6de-481c-8dcb-3557763fbd08",
   "metadata": {
    "jp-MarkdownHeadingCollapsed": true
   },
   "source": [
    "### a) Percentage of Total Flights for Each Airline\n",
    ">Visatra had the most flights with approximately 43%  of the total flights by Vistara, while Air India had the second highest percentage with 27%. SpiceJet\n",
    "had the lowest number of flights with it's percentage of the total flights being just 3.0%."
   ]
  },
  {
   "cell_type": "code",
   "execution_count": 230,
   "id": "bd3931b6-8e18-4c04-bb00-97885ec8aa9d",
   "metadata": {},
   "outputs": [
    {
     "data": {
      "image/png": "[encoded data removed]",
      "text/plain": [
       "<Figure size 800x800 with 1 Axes>"
      ]
     },
     "metadata": {},
     "output_type": "display_data"
    }
   ],
   "source": [
    "fig, ax = plt.subplots(figsize=(8,8))\n",
    "\n",
    "ax.pie(df.airline.value_counts(normalize=True, sort=False), \n",
    "       labels= df.airline.unique(), \n",
    "       autopct='%1.1f%%',\n",
    "       colors=['peru', 'dodgerblue', 'saddlebrown', 'olivedrab', 'gray', 'firebrick'],\n",
    "       explode=(0.06,0.06,0.06,0.06,0.06,0.06),\n",
    "       shadow=True)\n",
    "\n",
    "ax.set_title('Percentage of Total Flights for Each Airline', \n",
    "             size='xx-large', \n",
    "             weight='bold',\n",
    "             loc='center');\n",
    "\n"
   ]
  },
  {
   "cell_type": "markdown",
   "id": "ae77fd0d-fcf4-4da4-ba79-aa76fc4522e9",
   "metadata": {
    "jp-MarkdownHeadingCollapsed": true
   },
   "source": [
    "### b) How Does the Average Price of a Flight ticket depend on the Number of Days Left\n",
    "\n",
    ">The average price of a flight ticket decreases as the number of days left increases with people booking with only 2 days left having the highest flight ticket price."
   ]
  },
  {
   "cell_type": "code",
   "execution_count": 239,
   "id": "0467177a-f371-48cd-bfb1-a911dbac752e",
   "metadata": {
    "scrolled": true
   },
   "outputs": [
    {
     "data": {
      "image/png": "[encoded data removed]",
      "text/plain": [
       "<Figure size 800x500 with 1 Axes>"
      ]
     },
     "metadata": {},
     "output_type": "display_data"
    }
   ],
   "source": [
    "\n",
    "x = df.days_left.unique()\n",
    "y = df.groupby(df.days_left).price.mean()\n",
    "\n",
    "#2. Setup the plot\n",
    "fig, ax = plt.subplots(figsize=(8,5))\n",
    "\n",
    "#3. Plot the data\n",
    "ax.scatter(x,y, c='darkblue')\n",
    "\n",
    "#4. Customize plot\n",
    "ax.set(title=\"Average Price Depending on Number of Days Left\",\n",
    "       xlabel=\"No of Days Left\",\n",
    "       ylabel=\"Price\");"
   ]
  },
  {
   "cell_type": "markdown",
   "id": "4337cc34-6da9-4199-9d03-f7570f33e7e8",
   "metadata": {},
   "source": [
    "### c) Does ticket price change based on the departure time and arrival time?\n",
    ">The cheapest average flight ticket prices are the ones whose departure time and arrival time are in the afternoon while those who book flights during late nights tend to pay the highest ticket prices. "
   ]
  },
  {
   "cell_type": "code",
   "execution_count": 254,
   "id": "8a61be1c-794a-49aa-92e1-c8084fab5eca",
   "metadata": {},
   "outputs": [
    {
     "data": {
      "image/png": "[encoded data removed]",
      "text/plain": [
       "<Figure size 1600x700 with 2 Axes>"
      ]
     },
     "metadata": {},
     "output_type": "display_data"
    }
   ],
   "source": [
    "#1. Set the Variables \n",
    "x0 = df.departure_time.unique()\n",
    "y0 = df.groupby(df.departure_time, sort=True).price.mean()\n",
    "\n",
    "x1 = df.arrival_time.unique()\n",
    "y1 = df.groupby(\"arrival_time\", sort=True).price.mean()\n",
    "\n",
    "#2. Setup the plot\n",
    "fig, (ax0,ax1) = plt.subplots(nrows=1,\n",
    "                              ncols=2,\n",
    "                              figsize=(16,7))\n",
    "colors=['brown']\n",
    "#3. Plot the data\n",
    "f0 = ax0.bar(x0,y0, color=colors)\n",
    "f1 = ax1.bar(x1, y1)\n",
    "#4. Customize plot\n",
    "ax0.set(title=\"Average Price Depending on Departure time\",\n",
    "       xlabel=\"Departure Time\",\n",
    "       ylabel=\"Price\")\n",
    "ax0.bar_label(f0)\n",
    "\n",
    "ax1.set(title=\"Average Price Depending on Arrival time\",\n",
    "       xlabel=\"Arrival Time\",\n",
    "       ylabel=\"Price\")\n",
    "ax1.bar_label(f1);"
   ]
  },
  {
   "cell_type": "markdown",
   "id": "bcc55d49-7bd8-4961-b4c6-3c81298779e8",
   "metadata": {},
   "source": [
    "### d) How does the ticket price vary between number of stops and ticket class?"
   ]
  },
  {
   "cell_type": "code",
   "execution_count": 313,
   "id": "ce4b26c5-39ba-4488-8a0b-45a4133db0a4",
   "metadata": {},
   "outputs": [
    {
     "data": {
      "text/html": [
       "<div>\n",
       "<style scoped>\n",
       "    .dataframe tbody tr th:only-of-type {\n",
       "        vertical-align: middle;\n",
       "    }\n",
       "\n",
       "    .dataframe tbody tr th {\n",
       "        vertical-align: top;\n",
       "    }\n",
       "\n",
       "    .dataframe thead th {\n",
       "        text-align: right;\n",
       "    }\n",
       "</style>\n",
       "<table border=\"1\" class=\"dataframe\">\n",
       "  <thead>\n",
       "    <tr style=\"text-align: right;\">\n",
       "      <th>class</th>\n",
       "      <th>Business</th>\n",
       "      <th>Economy</th>\n",
       "    </tr>\n",
       "    <tr>\n",
       "      <th>stops</th>\n",
       "      <th></th>\n",
       "      <th></th>\n",
       "    </tr>\n",
       "  </thead>\n",
       "  <tbody>\n",
       "    <tr>\n",
       "      <th>one</th>\n",
       "      <td>54687.377156</td>\n",
       "      <td>6812.857800</td>\n",
       "    </tr>\n",
       "    <tr>\n",
       "      <th>two_or_more</th>\n",
       "      <td>70127.660203</td>\n",
       "      <td>9142.264279</td>\n",
       "    </tr>\n",
       "    <tr>\n",
       "      <th>zero</th>\n",
       "      <td>27846.339052</td>\n",
       "      <td>4012.624615</td>\n",
       "    </tr>\n",
       "  </tbody>\n",
       "</table>\n",
       "</div>"
      ],
      "text/plain": [
       "class            Business      Economy\n",
       "stops                                 \n",
       "one          54687.377156  6812.857800\n",
       "two_or_more  70127.660203  9142.264279\n",
       "zero         27846.339052  4012.624615"
      ]
     },
     "execution_count": 313,
     "metadata": {},
     "output_type": "execute_result"
    }
   ],
   "source": [
    "fd = pd.DataFrame(df.groupby([\"stops\", \"class\"]).price.mean()).reset_index()\n",
    "fd =fd.pivot(index='stops', columns=\"class\", values='price')\n",
    "fd"
   ]
  },
  {
   "cell_type": "code",
   "execution_count": 349,
   "id": "4e81d146-8afb-4f5a-a0d2-023786208f53",
   "metadata": {},
   "outputs": [
    {
     "data": {
      "image/png": "[encoded data removed]",
      "text/plain": [
       "<Figure size 800x600 with 1 Axes>"
      ]
     },
     "metadata": {},
     "output_type": "display_data"
    }
   ],
   "source": [
    "# Plot the grouped bar chart\n",
    "axe = fd.plot(kind='bar', figsize=(8, 6), rot=0)\n",
    "ax.set_xlabel('Stops')\n",
    "ax.set_ylabel('Price')\n",
    "ax.set_title('Average Price by Stops and Class')\n",
    "ax.legend(title='Class');"
   ]
  },
  {
   "cell_type": "code",
   "execution_count": 282,
   "id": "5229b0b0-c8c7-41c3-96a4-9c4cc28190d2",
   "metadata": {},
   "outputs": [],
   "source": [
    "enumerate(fd[\"class\"]);"
   ]
  },
  {
   "cell_type": "code",
   "execution_count": 252,
   "id": "8dcaa00d-431b-4c9e-8fce-41c5f06d9efe",
   "metadata": {},
   "outputs": [
    {
     "data": {
      "image/png": "[encoded data removed]",
      "text/plain": [
       "<Figure size 1600x700 with 2 Axes>"
      ]
     },
     "metadata": {},
     "output_type": "display_data"
    }
   ],
   "source": [
    "x0 = df.source_city.unique()\n",
    "y0 = df.groupby(df.source_city, sort=True).price.mean()\n",
    "\n",
    "x1 = df.destination_city.unique()\n",
    "y1 = df.groupby(\"destination_city\", sort=True).price.mean()\n",
    "#2. Setup the plot\n",
    "fig, (ax0,ax1) = plt.subplots(nrows=1,\n",
    "                              ncols=2,\n",
    "                              figsize=(16,7))\n",
    "\n",
    "#3. Plot the data\n",
    "f0 = ax0.bar(x0,y0, color=['forestgreen'],)\n",
    "f1 = ax1.bar(x1, y1, color=['darkgoldenrod'])\n",
    "#4. Customize plot\n",
    "ax0.set(title=\"Average Price Depending on Source City\",\n",
    "       xlabel=\" Source City\",\n",
    "       ylabel=\"Price\");\n",
    "ax0.bar_label(f0)\n",
    "\n",
    "\n",
    "ax1.set(title=\"Average Price Depending on Destination City\",\n",
    "       xlabel=\"Destination City\",\n",
    "       ylabel=\"Price\")\n",
    "ax1.bar_label(f1);"
   ]
  },
  {
   "cell_type": "markdown",
   "id": "00c09357-f1bd-4468-88ae-e7b4b71c8f3a",
   "metadata": {},
   "source": [
    "## 5. Data Preprocessing"
   ]
  },
  {
   "cell_type": "code",
   "execution_count": 13,
   "id": "1664773a-6d3e-411d-ab90-dd814400d054",
   "metadata": {},
   "outputs": [],
   "source": [
    "# Create a copy of the dataset for data preprocessing\n",
    "df_copy = df.copy()"
   ]
  },
  {
   "cell_type": "code",
   "execution_count": 14,
   "id": "73c3058d-9940-4700-80e6-0a486dd8f8a5",
   "metadata": {},
   "outputs": [
    {
     "data": {
      "text/html": [
       "<div>\n",
       "<style scoped>\n",
       "    .dataframe tbody tr th:only-of-type {\n",
       "        vertical-align: middle;\n",
       "    }\n",
       "\n",
       "    .dataframe tbody tr th {\n",
       "        vertical-align: top;\n",
       "    }\n",
       "\n",
       "    .dataframe thead th {\n",
       "        text-align: right;\n",
       "    }\n",
       "</style>\n",
       "<table border=\"1\" class=\"dataframe\">\n",
       "  <thead>\n",
       "    <tr style=\"text-align: right;\">\n",
       "      <th></th>\n",
       "      <th>airline</th>\n",
       "      <th>flight</th>\n",
       "      <th>source_city</th>\n",
       "      <th>departure_time</th>\n",
       "      <th>stops</th>\n",
       "      <th>arrival_time</th>\n",
       "      <th>destination_city</th>\n",
       "      <th>class</th>\n",
       "      <th>duration</th>\n",
       "      <th>days_left</th>\n",
       "      <th>price</th>\n",
       "    </tr>\n",
       "  </thead>\n",
       "  <tbody>\n",
       "    <tr>\n",
       "      <th>0</th>\n",
       "      <td>SpiceJet</td>\n",
       "      <td>SG-8709</td>\n",
       "      <td>Delhi</td>\n",
       "      <td>Evening</td>\n",
       "      <td>zero</td>\n",
       "      <td>Night</td>\n",
       "      <td>Mumbai</td>\n",
       "      <td>Economy</td>\n",
       "      <td>2.17</td>\n",
       "      <td>1</td>\n",
       "      <td>5953</td>\n",
       "    </tr>\n",
       "    <tr>\n",
       "      <th>1</th>\n",
       "      <td>SpiceJet</td>\n",
       "      <td>SG-8157</td>\n",
       "      <td>Delhi</td>\n",
       "      <td>Early_Morning</td>\n",
       "      <td>zero</td>\n",
       "      <td>Morning</td>\n",
       "      <td>Mumbai</td>\n",
       "      <td>Economy</td>\n",
       "      <td>2.33</td>\n",
       "      <td>1</td>\n",
       "      <td>5953</td>\n",
       "    </tr>\n",
       "    <tr>\n",
       "      <th>2</th>\n",
       "      <td>AirAsia</td>\n",
       "      <td>I5-764</td>\n",
       "      <td>Delhi</td>\n",
       "      <td>Early_Morning</td>\n",
       "      <td>zero</td>\n",
       "      <td>Early_Morning</td>\n",
       "      <td>Mumbai</td>\n",
       "      <td>Economy</td>\n",
       "      <td>2.17</td>\n",
       "      <td>1</td>\n",
       "      <td>5956</td>\n",
       "    </tr>\n",
       "    <tr>\n",
       "      <th>3</th>\n",
       "      <td>Vistara</td>\n",
       "      <td>UK-995</td>\n",
       "      <td>Delhi</td>\n",
       "      <td>Morning</td>\n",
       "      <td>zero</td>\n",
       "      <td>Afternoon</td>\n",
       "      <td>Mumbai</td>\n",
       "      <td>Economy</td>\n",
       "      <td>2.25</td>\n",
       "      <td>1</td>\n",
       "      <td>5955</td>\n",
       "    </tr>\n",
       "    <tr>\n",
       "      <th>4</th>\n",
       "      <td>Vistara</td>\n",
       "      <td>UK-963</td>\n",
       "      <td>Delhi</td>\n",
       "      <td>Morning</td>\n",
       "      <td>zero</td>\n",
       "      <td>Morning</td>\n",
       "      <td>Mumbai</td>\n",
       "      <td>Economy</td>\n",
       "      <td>2.33</td>\n",
       "      <td>1</td>\n",
       "      <td>5955</td>\n",
       "    </tr>\n",
       "    <tr>\n",
       "      <th>...</th>\n",
       "      <td>...</td>\n",
       "      <td>...</td>\n",
       "      <td>...</td>\n",
       "      <td>...</td>\n",
       "      <td>...</td>\n",
       "      <td>...</td>\n",
       "      <td>...</td>\n",
       "      <td>...</td>\n",
       "      <td>...</td>\n",
       "      <td>...</td>\n",
       "      <td>...</td>\n",
       "    </tr>\n",
       "    <tr>\n",
       "      <th>300148</th>\n",
       "      <td>Vistara</td>\n",
       "      <td>UK-822</td>\n",
       "      <td>Chennai</td>\n",
       "      <td>Morning</td>\n",
       "      <td>one</td>\n",
       "      <td>Evening</td>\n",
       "      <td>Hyderabad</td>\n",
       "      <td>Business</td>\n",
       "      <td>10.08</td>\n",
       "      <td>49</td>\n",
       "      <td>69265</td>\n",
       "    </tr>\n",
       "    <tr>\n",
       "      <th>300149</th>\n",
       "      <td>Vistara</td>\n",
       "      <td>UK-826</td>\n",
       "      <td>Chennai</td>\n",
       "      <td>Afternoon</td>\n",
       "      <td>one</td>\n",
       "      <td>Night</td>\n",
       "      <td>Hyderabad</td>\n",
       "      <td>Business</td>\n",
       "      <td>10.42</td>\n",
       "      <td>49</td>\n",
       "      <td>77105</td>\n",
       "    </tr>\n",
       "    <tr>\n",
       "      <th>300150</th>\n",
       "      <td>Vistara</td>\n",
       "      <td>UK-832</td>\n",
       "      <td>Chennai</td>\n",
       "      <td>Early_Morning</td>\n",
       "      <td>one</td>\n",
       "      <td>Night</td>\n",
       "      <td>Hyderabad</td>\n",
       "      <td>Business</td>\n",
       "      <td>13.83</td>\n",
       "      <td>49</td>\n",
       "      <td>79099</td>\n",
       "    </tr>\n",
       "    <tr>\n",
       "      <th>300151</th>\n",
       "      <td>Vistara</td>\n",
       "      <td>UK-828</td>\n",
       "      <td>Chennai</td>\n",
       "      <td>Early_Morning</td>\n",
       "      <td>one</td>\n",
       "      <td>Evening</td>\n",
       "      <td>Hyderabad</td>\n",
       "      <td>Business</td>\n",
       "      <td>10.00</td>\n",
       "      <td>49</td>\n",
       "      <td>81585</td>\n",
       "    </tr>\n",
       "    <tr>\n",
       "      <th>300152</th>\n",
       "      <td>Vistara</td>\n",
       "      <td>UK-822</td>\n",
       "      <td>Chennai</td>\n",
       "      <td>Morning</td>\n",
       "      <td>one</td>\n",
       "      <td>Evening</td>\n",
       "      <td>Hyderabad</td>\n",
       "      <td>Business</td>\n",
       "      <td>10.08</td>\n",
       "      <td>49</td>\n",
       "      <td>81585</td>\n",
       "    </tr>\n",
       "  </tbody>\n",
       "</table>\n",
       "<p>300153 rows × 11 columns</p>\n",
       "</div>"
      ],
      "text/plain": [
       "         airline   flight source_city departure_time stops   arrival_time  \\\n",
       "0       SpiceJet  SG-8709       Delhi        Evening  zero          Night   \n",
       "1       SpiceJet  SG-8157       Delhi  Early_Morning  zero        Morning   \n",
       "2        AirAsia   I5-764       Delhi  Early_Morning  zero  Early_Morning   \n",
       "3        Vistara   UK-995       Delhi        Morning  zero      Afternoon   \n",
       "4        Vistara   UK-963       Delhi        Morning  zero        Morning   \n",
       "...          ...      ...         ...            ...   ...            ...   \n",
       "300148   Vistara   UK-822     Chennai        Morning   one        Evening   \n",
       "300149   Vistara   UK-826     Chennai      Afternoon   one          Night   \n",
       "300150   Vistara   UK-832     Chennai  Early_Morning   one          Night   \n",
       "300151   Vistara   UK-828     Chennai  Early_Morning   one        Evening   \n",
       "300152   Vistara   UK-822     Chennai        Morning   one        Evening   \n",
       "\n",
       "       destination_city     class  duration  days_left  price  \n",
       "0                Mumbai   Economy      2.17          1   5953  \n",
       "1                Mumbai   Economy      2.33          1   5953  \n",
       "2                Mumbai   Economy      2.17          1   5956  \n",
       "3                Mumbai   Economy      2.25          1   5955  \n",
       "4                Mumbai   Economy      2.33          1   5955  \n",
       "...                 ...       ...       ...        ...    ...  \n",
       "300148        Hyderabad  Business     10.08         49  69265  \n",
       "300149        Hyderabad  Business     10.42         49  77105  \n",
       "300150        Hyderabad  Business     13.83         49  79099  \n",
       "300151        Hyderabad  Business     10.00         49  81585  \n",
       "300152        Hyderabad  Business     10.08         49  81585  \n",
       "\n",
       "[300153 rows x 11 columns]"
      ]
     },
     "execution_count": 14,
     "metadata": {},
     "output_type": "execute_result"
    }
   ],
   "source": [
    "df_copy"
   ]
  },
  {
   "cell_type": "markdown",
   "id": "5be11fa6-6f24-418e-a5da-cf763e62ed95",
   "metadata": {},
   "source": [
    "### Turning Non-Numeric Data into Numbers"
   ]
  },
  {
   "cell_type": "code",
   "execution_count": 15,
   "id": "e588d35a-e9d9-4ae9-84db-2f160c54e295",
   "metadata": {},
   "outputs": [
    {
     "name": "stdout",
     "output_type": "stream",
     "text": [
      "airline\n",
      "flight\n",
      "source_city\n",
      "departure_time\n",
      "stops\n",
      "arrival_time\n",
      "destination_city\n",
      "class\n"
     ]
    }
   ],
   "source": [
    "# Find the columns which contain string values\n",
    "for label, content in df_copy.items():\n",
    "    if pd.api.types.is_object_dtype(content):\n",
    "        print(label)\n",
    "\n",
    "# Turning all the string value into category values and add +1\n",
    "for label, content in df_copy.items():\n",
    "    if pd.api.types.is_object_dtype(content):\n",
    "        df_copy[label] = pd.Categorical(content).codes + 1"
   ]
  },
  {
   "cell_type": "code",
   "execution_count": 16,
   "id": "06823b20-9b3d-4a86-9e06-cabfb454c4da",
   "metadata": {},
   "outputs": [
    {
     "name": "stdout",
     "output_type": "stream",
     "text": [
      "<class 'pandas.core.frame.DataFrame'>\n",
      "RangeIndex: 300153 entries, 0 to 300152\n",
      "Data columns (total 11 columns):\n",
      " #   Column            Non-Null Count   Dtype  \n",
      "---  ------            --------------   -----  \n",
      " 0   airline           300153 non-null  int8   \n",
      " 1   flight            300153 non-null  int16  \n",
      " 2   source_city       300153 non-null  int8   \n",
      " 3   departure_time    300153 non-null  int8   \n",
      " 4   stops             300153 non-null  int8   \n",
      " 5   arrival_time      300153 non-null  int8   \n",
      " 6   destination_city  300153 non-null  int8   \n",
      " 7   class             300153 non-null  int8   \n",
      " 8   duration          300153 non-null  float64\n",
      " 9   days_left         300153 non-null  int64  \n",
      " 10  price             300153 non-null  int64  \n",
      "dtypes: float64(1), int16(1), int64(2), int8(7)\n",
      "memory usage: 9.4 MB\n"
     ]
    }
   ],
   "source": [
    "df_copy.info()"
   ]
  },
  {
   "cell_type": "code",
   "execution_count": 17,
   "id": "e4d7d56a-1cc7-429c-8281-19cecc516233",
   "metadata": {},
   "outputs": [
    {
     "data": {
      "text/html": [
       "<div>\n",
       "<style scoped>\n",
       "    .dataframe tbody tr th:only-of-type {\n",
       "        vertical-align: middle;\n",
       "    }\n",
       "\n",
       "    .dataframe tbody tr th {\n",
       "        vertical-align: top;\n",
       "    }\n",
       "\n",
       "    .dataframe thead th {\n",
       "        text-align: right;\n",
       "    }\n",
       "</style>\n",
       "<table border=\"1\" class=\"dataframe\">\n",
       "  <thead>\n",
       "    <tr style=\"text-align: right;\">\n",
       "      <th></th>\n",
       "      <th>airline</th>\n",
       "      <th>flight</th>\n",
       "      <th>source_city</th>\n",
       "      <th>departure_time</th>\n",
       "      <th>stops</th>\n",
       "      <th>arrival_time</th>\n",
       "      <th>destination_city</th>\n",
       "      <th>class</th>\n",
       "      <th>duration</th>\n",
       "      <th>days_left</th>\n",
       "      <th>price</th>\n",
       "    </tr>\n",
       "  </thead>\n",
       "  <tbody>\n",
       "    <tr>\n",
       "      <th>0</th>\n",
       "      <td>5</td>\n",
       "      <td>1409</td>\n",
       "      <td>3</td>\n",
       "      <td>3</td>\n",
       "      <td>3</td>\n",
       "      <td>6</td>\n",
       "      <td>6</td>\n",
       "      <td>2</td>\n",
       "      <td>2.17</td>\n",
       "      <td>1</td>\n",
       "      <td>5953</td>\n",
       "    </tr>\n",
       "    <tr>\n",
       "      <th>1</th>\n",
       "      <td>5</td>\n",
       "      <td>1388</td>\n",
       "      <td>3</td>\n",
       "      <td>2</td>\n",
       "      <td>3</td>\n",
       "      <td>5</td>\n",
       "      <td>6</td>\n",
       "      <td>2</td>\n",
       "      <td>2.33</td>\n",
       "      <td>1</td>\n",
       "      <td>5953</td>\n",
       "    </tr>\n",
       "    <tr>\n",
       "      <th>2</th>\n",
       "      <td>1</td>\n",
       "      <td>1214</td>\n",
       "      <td>3</td>\n",
       "      <td>2</td>\n",
       "      <td>3</td>\n",
       "      <td>2</td>\n",
       "      <td>6</td>\n",
       "      <td>2</td>\n",
       "      <td>2.17</td>\n",
       "      <td>1</td>\n",
       "      <td>5956</td>\n",
       "    </tr>\n",
       "    <tr>\n",
       "      <th>3</th>\n",
       "      <td>6</td>\n",
       "      <td>1560</td>\n",
       "      <td>3</td>\n",
       "      <td>5</td>\n",
       "      <td>3</td>\n",
       "      <td>1</td>\n",
       "      <td>6</td>\n",
       "      <td>2</td>\n",
       "      <td>2.25</td>\n",
       "      <td>1</td>\n",
       "      <td>5955</td>\n",
       "    </tr>\n",
       "    <tr>\n",
       "      <th>4</th>\n",
       "      <td>6</td>\n",
       "      <td>1550</td>\n",
       "      <td>3</td>\n",
       "      <td>5</td>\n",
       "      <td>3</td>\n",
       "      <td>5</td>\n",
       "      <td>6</td>\n",
       "      <td>2</td>\n",
       "      <td>2.33</td>\n",
       "      <td>1</td>\n",
       "      <td>5955</td>\n",
       "    </tr>\n",
       "  </tbody>\n",
       "</table>\n",
       "</div>"
      ],
      "text/plain": [
       "   airline  flight  source_city  departure_time  stops  arrival_time  \\\n",
       "0        5    1409            3               3      3             6   \n",
       "1        5    1388            3               2      3             5   \n",
       "2        1    1214            3               2      3             2   \n",
       "3        6    1560            3               5      3             1   \n",
       "4        6    1550            3               5      3             5   \n",
       "\n",
       "   destination_city  class  duration  days_left  price  \n",
       "0                 6      2      2.17          1   5953  \n",
       "1                 6      2      2.33          1   5953  \n",
       "2                 6      2      2.17          1   5956  \n",
       "3                 6      2      2.25          1   5955  \n",
       "4                 6      2      2.33          1   5955  "
      ]
     },
     "execution_count": 17,
     "metadata": {},
     "output_type": "execute_result"
    }
   ],
   "source": [
    "df_copy.head()"
   ]
  },
  {
   "cell_type": "code",
   "execution_count": 34,
   "id": "3dd22ba4-ff30-45a6-8935-68daf442340c",
   "metadata": {},
   "outputs": [
    {
     "data": {
      "text/html": [
       "<div>\n",
       "<style scoped>\n",
       "    .dataframe tbody tr th:only-of-type {\n",
       "        vertical-align: middle;\n",
       "    }\n",
       "\n",
       "    .dataframe tbody tr th {\n",
       "        vertical-align: top;\n",
       "    }\n",
       "\n",
       "    .dataframe thead th {\n",
       "        text-align: right;\n",
       "    }\n",
       "</style>\n",
       "<table border=\"1\" class=\"dataframe\">\n",
       "  <thead>\n",
       "    <tr style=\"text-align: right;\">\n",
       "      <th></th>\n",
       "      <th>airline</th>\n",
       "      <th>flight</th>\n",
       "      <th>source_city</th>\n",
       "      <th>departure_time</th>\n",
       "      <th>stops</th>\n",
       "      <th>arrival_time</th>\n",
       "      <th>destination_city</th>\n",
       "      <th>class</th>\n",
       "      <th>duration</th>\n",
       "      <th>days_left</th>\n",
       "      <th>price</th>\n",
       "    </tr>\n",
       "  </thead>\n",
       "  <tbody>\n",
       "    <tr>\n",
       "      <th>airline</th>\n",
       "      <td>1.000000</td>\n",
       "      <td>0.637918</td>\n",
       "      <td>-0.028350</td>\n",
       "      <td>0.056885</td>\n",
       "      <td>-0.029838</td>\n",
       "      <td>0.037714</td>\n",
       "      <td>-0.030172</td>\n",
       "      <td>-0.178862</td>\n",
       "      <td>-0.001651</td>\n",
       "      <td>-0.010678</td>\n",
       "      <td>0.243358</td>\n",
       "    </tr>\n",
       "    <tr>\n",
       "      <th>flight</th>\n",
       "      <td>0.637918</td>\n",
       "      <td>1.000000</td>\n",
       "      <td>-0.009443</td>\n",
       "      <td>0.071564</td>\n",
       "      <td>-0.118833</td>\n",
       "      <td>0.067175</td>\n",
       "      <td>-0.036248</td>\n",
       "      <td>-0.259531</td>\n",
       "      <td>0.205502</td>\n",
       "      <td>-0.000443</td>\n",
       "      <td>0.305872</td>\n",
       "    </tr>\n",
       "    <tr>\n",
       "      <th>source_city</th>\n",
       "      <td>-0.028350</td>\n",
       "      <td>-0.009443</td>\n",
       "      <td>1.000000</td>\n",
       "      <td>-0.004688</td>\n",
       "      <td>0.001819</td>\n",
       "      <td>0.044153</td>\n",
       "      <td>-0.222935</td>\n",
       "      <td>0.000075</td>\n",
       "      <td>0.008619</td>\n",
       "      <td>-0.003568</td>\n",
       "      <td>0.004594</td>\n",
       "    </tr>\n",
       "    <tr>\n",
       "      <th>departure_time</th>\n",
       "      <td>0.056885</td>\n",
       "      <td>0.071564</td>\n",
       "      <td>-0.004688</td>\n",
       "      <td>1.000000</td>\n",
       "      <td>-0.008518</td>\n",
       "      <td>-0.046282</td>\n",
       "      <td>-0.001761</td>\n",
       "      <td>-0.053340</td>\n",
       "      <td>0.084348</td>\n",
       "      <td>-0.001597</td>\n",
       "      <td>0.058319</td>\n",
       "    </tr>\n",
       "    <tr>\n",
       "      <th>stops</th>\n",
       "      <td>-0.029838</td>\n",
       "      <td>-0.118833</td>\n",
       "      <td>0.001819</td>\n",
       "      <td>-0.008518</td>\n",
       "      <td>1.000000</td>\n",
       "      <td>0.010515</td>\n",
       "      <td>-0.012846</td>\n",
       "      <td>0.100262</td>\n",
       "      <td>-0.473860</td>\n",
       "      <td>-0.007047</td>\n",
       "      <td>-0.202620</td>\n",
       "    </tr>\n",
       "    <tr>\n",
       "      <th>arrival_time</th>\n",
       "      <td>0.037714</td>\n",
       "      <td>0.067175</td>\n",
       "      <td>0.044153</td>\n",
       "      <td>-0.046282</td>\n",
       "      <td>0.010515</td>\n",
       "      <td>1.000000</td>\n",
       "      <td>-0.037431</td>\n",
       "      <td>-0.027647</td>\n",
       "      <td>0.008679</td>\n",
       "      <td>-0.004191</td>\n",
       "      <td>0.042043</td>\n",
       "    </tr>\n",
       "    <tr>\n",
       "      <th>destination_city</th>\n",
       "      <td>-0.030172</td>\n",
       "      <td>-0.036248</td>\n",
       "      <td>-0.222935</td>\n",
       "      <td>-0.001761</td>\n",
       "      <td>-0.012846</td>\n",
       "      <td>-0.037431</td>\n",
       "      <td>1.000000</td>\n",
       "      <td>0.001603</td>\n",
       "      <td>0.001736</td>\n",
       "      <td>-0.005323</td>\n",
       "      <td>0.004795</td>\n",
       "    </tr>\n",
       "    <tr>\n",
       "      <th>class</th>\n",
       "      <td>-0.178862</td>\n",
       "      <td>-0.259531</td>\n",
       "      <td>0.000075</td>\n",
       "      <td>-0.053340</td>\n",
       "      <td>0.100262</td>\n",
       "      <td>-0.027647</td>\n",
       "      <td>0.001603</td>\n",
       "      <td>1.000000</td>\n",
       "      <td>-0.138710</td>\n",
       "      <td>0.013039</td>\n",
       "      <td>-0.937860</td>\n",
       "    </tr>\n",
       "    <tr>\n",
       "      <th>duration</th>\n",
       "      <td>-0.001651</td>\n",
       "      <td>0.205502</td>\n",
       "      <td>0.008619</td>\n",
       "      <td>0.084348</td>\n",
       "      <td>-0.473860</td>\n",
       "      <td>0.008679</td>\n",
       "      <td>0.001736</td>\n",
       "      <td>-0.138710</td>\n",
       "      <td>1.000000</td>\n",
       "      <td>-0.039157</td>\n",
       "      <td>0.204222</td>\n",
       "    </tr>\n",
       "    <tr>\n",
       "      <th>days_left</th>\n",
       "      <td>-0.010678</td>\n",
       "      <td>-0.000443</td>\n",
       "      <td>-0.003568</td>\n",
       "      <td>-0.001597</td>\n",
       "      <td>-0.007047</td>\n",
       "      <td>-0.004191</td>\n",
       "      <td>-0.005323</td>\n",
       "      <td>0.013039</td>\n",
       "      <td>-0.039157</td>\n",
       "      <td>1.000000</td>\n",
       "      <td>-0.091949</td>\n",
       "    </tr>\n",
       "    <tr>\n",
       "      <th>price</th>\n",
       "      <td>0.243358</td>\n",
       "      <td>0.305872</td>\n",
       "      <td>0.004594</td>\n",
       "      <td>0.058319</td>\n",
       "      <td>-0.202620</td>\n",
       "      <td>0.042043</td>\n",
       "      <td>0.004795</td>\n",
       "      <td>-0.937860</td>\n",
       "      <td>0.204222</td>\n",
       "      <td>-0.091949</td>\n",
       "      <td>1.000000</td>\n",
       "    </tr>\n",
       "  </tbody>\n",
       "</table>\n",
       "</div>"
      ],
      "text/plain": [
       "                   airline    flight  source_city  departure_time     stops  \\\n",
       "airline           1.000000  0.637918    -0.028350        0.056885 -0.029838   \n",
       "flight            0.637918  1.000000    -0.009443        0.071564 -0.118833   \n",
       "source_city      -0.028350 -0.009443     1.000000       -0.004688  0.001819   \n",
       "departure_time    0.056885  0.071564    -0.004688        1.000000 -0.008518   \n",
       "stops            -0.029838 -0.118833     0.001819       -0.008518  1.000000   \n",
       "arrival_time      0.037714  0.067175     0.044153       -0.046282  0.010515   \n",
       "destination_city -0.030172 -0.036248    -0.222935       -0.001761 -0.012846   \n",
       "class            -0.178862 -0.259531     0.000075       -0.053340  0.100262   \n",
       "duration         -0.001651  0.205502     0.008619        0.084348 -0.473860   \n",
       "days_left        -0.010678 -0.000443    -0.003568       -0.001597 -0.007047   \n",
       "price             0.243358  0.305872     0.004594        0.058319 -0.202620   \n",
       "\n",
       "                  arrival_time  destination_city     class  duration  \\\n",
       "airline               0.037714         -0.030172 -0.178862 -0.001651   \n",
       "flight                0.067175         -0.036248 -0.259531  0.205502   \n",
       "source_city           0.044153         -0.222935  0.000075  0.008619   \n",
       "departure_time       -0.046282         -0.001761 -0.053340  0.084348   \n",
       "stops                 0.010515         -0.012846  0.100262 -0.473860   \n",
       "arrival_time          1.000000         -0.037431 -0.027647  0.008679   \n",
       "destination_city     -0.037431          1.000000  0.001603  0.001736   \n",
       "class                -0.027647          0.001603  1.000000 -0.138710   \n",
       "duration              0.008679          0.001736 -0.138710  1.000000   \n",
       "days_left            -0.004191         -0.005323  0.013039 -0.039157   \n",
       "price                 0.042043          0.004795 -0.937860  0.204222   \n",
       "\n",
       "                  days_left     price  \n",
       "airline           -0.010678  0.243358  \n",
       "flight            -0.000443  0.305872  \n",
       "source_city       -0.003568  0.004594  \n",
       "departure_time    -0.001597  0.058319  \n",
       "stops             -0.007047 -0.202620  \n",
       "arrival_time      -0.004191  0.042043  \n",
       "destination_city  -0.005323  0.004795  \n",
       "class              0.013039 -0.937860  \n",
       "duration          -0.039157  0.204222  \n",
       "days_left          1.000000 -0.091949  \n",
       "price             -0.091949  1.000000  "
      ]
     },
     "execution_count": 34,
     "metadata": {},
     "output_type": "execute_result"
    }
   ],
   "source": [
    "corr_matrix = df_copy.corr()\n",
    "corr_matrix"
   ]
  },
  {
   "cell_type": "code",
   "execution_count": 255,
   "id": "14bc7ba5-90df-41d1-b115-ea9255fdef9a",
   "metadata": {},
   "outputs": [
    {
     "data": {
      "image/png": "[encoded data removed]",
      "text/plain": [
       "<Figure size 1700x1600 with 2 Axes>"
      ]
     },
     "metadata": {},
     "output_type": "display_data"
    }
   ],
   "source": [
    "fig, ax = plt.subplots(figsize=(17,16))\n",
    "\n",
    "im = ax.imshow(corr_matrix)\n",
    "ax.set_xticks(np.arange(len(corr_matrix.columns)), labels = corr_matrix.columns)\n",
    "ax.set_yticks(np.arange(len(corr_matrix.index)), labels = corr_matrix.index)\n",
    "cbar = ax.figure.colorbar(im);"
   ]
  },
  {
   "cell_type": "markdown",
   "id": "b047a538-e009-4ec7-b4b4-740a645ad0ea",
   "metadata": {},
   "source": [
    "## 6. Data Modelling"
   ]
  },
  {
   "cell_type": "code",
   "execution_count": 18,
   "id": "43aed18e-6363-4074-94bc-b74f91a9f2e7",
   "metadata": {},
   "outputs": [],
   "source": [
    "# Models from sklearn\n",
    "from sklearn.linear_model import SGDRegressor, LinearRegression\n",
    "from sklearn.preprocessing import StandardScaler, PolynomialFeatures\n",
    "from sklearn.pipeline import make_pipeline\n",
    "#Sklearn evaluation metrics\n",
    "from sklearn.model_selection import train_test_split, RandomizedSearchCV, GridSearchCV\n",
    "from sklearn.metrics import r2_score, mean_absolute_error, mean_squared_error"
   ]
  },
  {
   "cell_type": "code",
   "execution_count": 19,
   "id": "e21b5d27-476c-497a-b715-f1f02d4e96cb",
   "metadata": {},
   "outputs": [],
   "source": [
    "# Split the dataset into X and y\n",
    "df_copy = df_copy.sample(frac=1)\n",
    "X = df_copy.drop(\"price\", axis=1)\n",
    "\n",
    "y = df_copy[\"price\"]"
   ]
  },
  {
   "cell_type": "code",
   "execution_count": 20,
   "id": "b4637b7e-b516-4ac5-8f0f-6947a9b344d4",
   "metadata": {},
   "outputs": [],
   "source": [
    "# Split data into training and test dataset\n",
    "np.random.seed(42)\n",
    "\n",
    "from sklearn.model_selection import train_test_split\n",
    "X_train, X_test, y_train, y_test = train_test_split(X, y, test_size= 0.2)"
   ]
  },
  {
   "cell_type": "markdown",
   "id": "d32a7602-16d0-419a-9aa8-82c3b8f10278",
   "metadata": {},
   "source": [
    "### Build an evaluation function"
   ]
  },
  {
   "cell_type": "code",
   "execution_count": 21,
   "id": "6f021724-3658-44e2-bac4-b1b921b774c8",
   "metadata": {},
   "outputs": [],
   "source": [
    "def show_score(model):\n",
    "    train_preds = model.predict(X_train)\n",
    "    scores = {\"Training MAE\": mean_absolute_error(y_train, train_preds),\n",
    "              \"Trainining MSE\": mean_squared_error(y_train, train_preds),\n",
    "              \"Training R2\": r2_score(y_train, train_preds)}\n",
    "    return scores"
   ]
  },
  {
   "cell_type": "markdown",
   "id": "849ad41c-8a85-4877-9c88-1e593044cfc7",
   "metadata": {},
   "source": [
    "### Testing our model on a subset"
   ]
  },
  {
   "cell_type": "code",
   "execution_count": 51,
   "id": "1b97f96e-817b-48c2-96eb-834ffb95dcbd",
   "metadata": {},
   "outputs": [
    {
     "name": "stdout",
     "output_type": "stream",
     "text": [
      "CPU times: total: 1.45 s\n",
      "Wall time: 1.47 s\n"
     ]
    },
    {
     "data": {
      "text/html": [
       "<style>#sk-container-id-5 {color: black;}#sk-container-id-5 pre{padding: 0;}#sk-container-id-5 div.sk-toggleable {background-color: white;}#sk-container-id-5 label.sk-toggleable__label {cursor: pointer;display: block;width: 100%;margin-bottom: 0;padding: 0.3em;box-sizing: border-box;text-align: center;}#sk-container-id-5 label.sk-toggleable__label-arrow:before {content: \"▸\";float: left;margin-right: 0.25em;color: #696969;}#sk-container-id-5 label.sk-toggleable__label-arrow:hover:before {color: black;}#sk-container-id-5 div.sk-estimator:hover label.sk-toggleable__label-arrow:before {color: black;}#sk-container-id-5 div.sk-toggleable__content {max-height: 0;max-width: 0;overflow: hidden;text-align: left;background-color: #f0f8ff;}#sk-container-id-5 div.sk-toggleable__content pre {margin: 0.2em;color: black;border-radius: 0.25em;background-color: #f0f8ff;}#sk-container-id-5 input.sk-toggleable__control:checked~div.sk-toggleable__content {max-height: 200px;max-width: 100%;overflow: auto;}#sk-container-id-5 input.sk-toggleable__control:checked~label.sk-toggleable__label-arrow:before {content: \"▾\";}#sk-container-id-5 div.sk-estimator input.sk-toggleable__control:checked~label.sk-toggleable__label {background-color: #d4ebff;}#sk-container-id-5 div.sk-label input.sk-toggleable__control:checked~label.sk-toggleable__label {background-color: #d4ebff;}#sk-container-id-5 input.sk-hidden--visually {border: 0;clip: rect(1px 1px 1px 1px);clip: rect(1px, 1px, 1px, 1px);height: 1px;margin: -1px;overflow: hidden;padding: 0;position: absolute;width: 1px;}#sk-container-id-5 div.sk-estimator {font-family: monospace;background-color: #f0f8ff;border: 1px dotted black;border-radius: 0.25em;box-sizing: border-box;margin-bottom: 0.5em;}#sk-container-id-5 div.sk-estimator:hover {background-color: #d4ebff;}#sk-container-id-5 div.sk-parallel-item::after {content: \"\";width: 100%;border-bottom: 1px solid gray;flex-grow: 1;}#sk-container-id-5 div.sk-label:hover label.sk-toggleable__label {background-color: #d4ebff;}#sk-container-id-5 div.sk-serial::before {content: \"\";position: absolute;border-left: 1px solid gray;box-sizing: border-box;top: 0;bottom: 0;left: 50%;z-index: 0;}#sk-container-id-5 div.sk-serial {display: flex;flex-direction: column;align-items: center;background-color: white;padding-right: 0.2em;padding-left: 0.2em;position: relative;}#sk-container-id-5 div.sk-item {position: relative;z-index: 1;}#sk-container-id-5 div.sk-parallel {display: flex;align-items: stretch;justify-content: center;background-color: white;position: relative;}#sk-container-id-5 div.sk-item::before, #sk-container-id-5 div.sk-parallel-item::before {content: \"\";position: absolute;border-left: 1px solid gray;box-sizing: border-box;top: 0;bottom: 0;left: 50%;z-index: -1;}#sk-container-id-5 div.sk-parallel-item {display: flex;flex-direction: column;z-index: 1;position: relative;background-color: white;}#sk-container-id-5 div.sk-parallel-item:first-child::after {align-self: flex-end;width: 50%;}#sk-container-id-5 div.sk-parallel-item:last-child::after {align-self: flex-start;width: 50%;}#sk-container-id-5 div.sk-parallel-item:only-child::after {width: 0;}#sk-container-id-5 div.sk-dashed-wrapped {border: 1px dashed gray;margin: 0 0.4em 0.5em 0.4em;box-sizing: border-box;padding-bottom: 0.4em;background-color: white;}#sk-container-id-5 div.sk-label label {font-family: monospace;font-weight: bold;display: inline-block;line-height: 1.2em;}#sk-container-id-5 div.sk-label-container {text-align: center;}#sk-container-id-5 div.sk-container {/* jupyter's `normalize.less` sets `[hidden] { display: none; }` but bootstrap.min.css set `[hidden] { display: none !important; }` so we also need the `!important` here to be able to override the default hidden behavior on the sphinx rendered scikit-learn.org. See: https://github.com/scikit-learn/scikit-learn/issues/21755 */display: inline-block !important;position: relative;}#sk-container-id-5 div.sk-text-repr-fallback {display: none;}</style><div id=\"sk-container-id-5\" class=\"sk-top-container\"><div class=\"sk-text-repr-fallback\"><pre>Pipeline(steps=[(&#x27;standardscaler&#x27;, StandardScaler()),\n",
       "                (&#x27;sgdregressor&#x27;, SGDRegressor(random_state=42))])</pre><b>In a Jupyter environment, please rerun this cell to show the HTML representation or trust the notebook. <br />On GitHub, the HTML representation is unable to render, please try loading this page with nbviewer.org.</b></div><div class=\"sk-container\" hidden><div class=\"sk-item sk-dashed-wrapped\"><div class=\"sk-label-container\"><div class=\"sk-label sk-toggleable\"><input class=\"sk-toggleable__control sk-hidden--visually\" id=\"sk-estimator-id-22\" type=\"checkbox\" ><label for=\"sk-estimator-id-22\" class=\"sk-toggleable__label sk-toggleable__label-arrow\">Pipeline</label><div class=\"sk-toggleable__content\"><pre>Pipeline(steps=[(&#x27;standardscaler&#x27;, StandardScaler()),\n",
       "                (&#x27;sgdregressor&#x27;, SGDRegressor(random_state=42))])</pre></div></div></div><div class=\"sk-serial\"><div class=\"sk-item\"><div class=\"sk-estimator sk-toggleable\"><input class=\"sk-toggleable__control sk-hidden--visually\" id=\"sk-estimator-id-23\" type=\"checkbox\" ><label for=\"sk-estimator-id-23\" class=\"sk-toggleable__label sk-toggleable__label-arrow\">StandardScaler</label><div class=\"sk-toggleable__content\"><pre>StandardScaler()</pre></div></div></div><div class=\"sk-item\"><div class=\"sk-estimator sk-toggleable\"><input class=\"sk-toggleable__control sk-hidden--visually\" id=\"sk-estimator-id-24\" type=\"checkbox\" ><label for=\"sk-estimator-id-24\" class=\"sk-toggleable__label sk-toggleable__label-arrow\">SGDRegressor</label><div class=\"sk-toggleable__content\"><pre>SGDRegressor(random_state=42)</pre></div></div></div></div></div></div></div>"
      ],
      "text/plain": [
       "Pipeline(steps=[('standardscaler', StandardScaler()),\n",
       "                ('sgdregressor', SGDRegressor(random_state=42))])"
      ]
     },
     "execution_count": 51,
     "metadata": {},
     "output_type": "execute_result"
    }
   ],
   "source": [
    "%%time\n",
    "model = make_pipeline(StandardScaler(), \n",
    "                      SGDRegressor(random_state=42))\n",
    "\n",
    "model.fit(X_train, y_train)"
   ]
  },
  {
   "cell_type": "code",
   "execution_count": 23,
   "id": "c72a665f-b7dc-4220-b966-4d14902df42d",
   "metadata": {},
   "outputs": [
    {
     "data": {
      "text/plain": [
       "{'Training MAE': 4640.6083282390155,\n",
       " 'Trainining MSE': 49176561.60102059,\n",
       " 'Training R2': 0.9045295580878687}"
      ]
     },
     "execution_count": 23,
     "metadata": {},
     "output_type": "execute_result"
    }
   ],
   "source": [
    "show_score(model)"
   ]
  },
  {
   "cell_type": "markdown",
   "id": "fe86b611-c4ef-4a9e-8bb3-82bbea87acd8",
   "metadata": {},
   "source": [
    "### Hyperparameter tuning with RandomizedSearchCV"
   ]
  },
  {
   "cell_type": "code",
   "execution_count": 53,
   "id": "9cf3b0d8-642c-4214-ab34-993338602933",
   "metadata": {},
   "outputs": [
    {
     "name": "stdout",
     "output_type": "stream",
     "text": [
      "Fitting 5 folds for each of 6 candidates, totalling 30 fits\n"
     ]
    },
    {
     "name": "stderr",
     "output_type": "stream",
     "text": [
      "C:\\Users\\Jedidiah Kristilere\\Desktop\\ml-course\\bulldozer-price-prediction-project\\env\\lib\\site-packages\\sklearn\\linear_model\\_stochastic_gradient.py:1561: ConvergenceWarning: Maximum number of iteration reached before convergence. Consider increasing max_iter to improve the fit.\n",
      "  warnings.warn(\n",
      "C:\\Users\\Jedidiah Kristilere\\Desktop\\ml-course\\bulldozer-price-prediction-project\\env\\lib\\site-packages\\sklearn\\linear_model\\_stochastic_gradient.py:1561: ConvergenceWarning: Maximum number of iteration reached before convergence. Consider increasing max_iter to improve the fit.\n",
      "  warnings.warn(\n",
      "C:\\Users\\Jedidiah Kristilere\\Desktop\\ml-course\\bulldozer-price-prediction-project\\env\\lib\\site-packages\\sklearn\\linear_model\\_stochastic_gradient.py:1561: ConvergenceWarning: Maximum number of iteration reached before convergence. Consider increasing max_iter to improve the fit.\n",
      "  warnings.warn(\n",
      "C:\\Users\\Jedidiah Kristilere\\Desktop\\ml-course\\bulldozer-price-prediction-project\\env\\lib\\site-packages\\sklearn\\linear_model\\_stochastic_gradient.py:1561: ConvergenceWarning: Maximum number of iteration reached before convergence. Consider increasing max_iter to improve the fit.\n",
      "  warnings.warn(\n",
      "C:\\Users\\Jedidiah Kristilere\\Desktop\\ml-course\\bulldozer-price-prediction-project\\env\\lib\\site-packages\\sklearn\\linear_model\\_stochastic_gradient.py:1561: ConvergenceWarning: Maximum number of iteration reached before convergence. Consider increasing max_iter to improve the fit.\n",
      "  warnings.warn(\n",
      "C:\\Users\\Jedidiah Kristilere\\Desktop\\ml-course\\bulldozer-price-prediction-project\\env\\lib\\site-packages\\sklearn\\linear_model\\_stochastic_gradient.py:1561: ConvergenceWarning: Maximum number of iteration reached before convergence. Consider increasing max_iter to improve the fit.\n",
      "  warnings.warn(\n",
      "C:\\Users\\Jedidiah Kristilere\\Desktop\\ml-course\\bulldozer-price-prediction-project\\env\\lib\\site-packages\\sklearn\\linear_model\\_stochastic_gradient.py:1561: ConvergenceWarning: Maximum number of iteration reached before convergence. Consider increasing max_iter to improve the fit.\n",
      "  warnings.warn(\n",
      "C:\\Users\\Jedidiah Kristilere\\Desktop\\ml-course\\bulldozer-price-prediction-project\\env\\lib\\site-packages\\sklearn\\linear_model\\_stochastic_gradient.py:1561: ConvergenceWarning: Maximum number of iteration reached before convergence. Consider increasing max_iter to improve the fit.\n",
      "  warnings.warn(\n",
      "C:\\Users\\Jedidiah Kristilere\\Desktop\\ml-course\\bulldozer-price-prediction-project\\env\\lib\\site-packages\\sklearn\\linear_model\\_stochastic_gradient.py:1561: ConvergenceWarning: Maximum number of iteration reached before convergence. Consider increasing max_iter to improve the fit.\n",
      "  warnings.warn(\n",
      "C:\\Users\\Jedidiah Kristilere\\Desktop\\ml-course\\bulldozer-price-prediction-project\\env\\lib\\site-packages\\sklearn\\linear_model\\_stochastic_gradient.py:1561: ConvergenceWarning: Maximum number of iteration reached before convergence. Consider increasing max_iter to improve the fit.\n",
      "  warnings.warn(\n"
     ]
    },
    {
     "name": "stdout",
     "output_type": "stream",
     "text": [
      "CPU times: total: 18min 24s\n",
      "Wall time: 18min 53s\n"
     ]
    },
    {
     "data": {
      "text/html": [
       "<style>#sk-container-id-6 {color: black;}#sk-container-id-6 pre{padding: 0;}#sk-container-id-6 div.sk-toggleable {background-color: white;}#sk-container-id-6 label.sk-toggleable__label {cursor: pointer;display: block;width: 100%;margin-bottom: 0;padding: 0.3em;box-sizing: border-box;text-align: center;}#sk-container-id-6 label.sk-toggleable__label-arrow:before {content: \"▸\";float: left;margin-right: 0.25em;color: #696969;}#sk-container-id-6 label.sk-toggleable__label-arrow:hover:before {color: black;}#sk-container-id-6 div.sk-estimator:hover label.sk-toggleable__label-arrow:before {color: black;}#sk-container-id-6 div.sk-toggleable__content {max-height: 0;max-width: 0;overflow: hidden;text-align: left;background-color: #f0f8ff;}#sk-container-id-6 div.sk-toggleable__content pre {margin: 0.2em;color: black;border-radius: 0.25em;background-color: #f0f8ff;}#sk-container-id-6 input.sk-toggleable__control:checked~div.sk-toggleable__content {max-height: 200px;max-width: 100%;overflow: auto;}#sk-container-id-6 input.sk-toggleable__control:checked~label.sk-toggleable__label-arrow:before {content: \"▾\";}#sk-container-id-6 div.sk-estimator input.sk-toggleable__control:checked~label.sk-toggleable__label {background-color: #d4ebff;}#sk-container-id-6 div.sk-label input.sk-toggleable__control:checked~label.sk-toggleable__label {background-color: #d4ebff;}#sk-container-id-6 input.sk-hidden--visually {border: 0;clip: rect(1px 1px 1px 1px);clip: rect(1px, 1px, 1px, 1px);height: 1px;margin: -1px;overflow: hidden;padding: 0;position: absolute;width: 1px;}#sk-container-id-6 div.sk-estimator {font-family: monospace;background-color: #f0f8ff;border: 1px dotted black;border-radius: 0.25em;box-sizing: border-box;margin-bottom: 0.5em;}#sk-container-id-6 div.sk-estimator:hover {background-color: #d4ebff;}#sk-container-id-6 div.sk-parallel-item::after {content: \"\";width: 100%;border-bottom: 1px solid gray;flex-grow: 1;}#sk-container-id-6 div.sk-label:hover label.sk-toggleable__label {background-color: #d4ebff;}#sk-container-id-6 div.sk-serial::before {content: \"\";position: absolute;border-left: 1px solid gray;box-sizing: border-box;top: 0;bottom: 0;left: 50%;z-index: 0;}#sk-container-id-6 div.sk-serial {display: flex;flex-direction: column;align-items: center;background-color: white;padding-right: 0.2em;padding-left: 0.2em;position: relative;}#sk-container-id-6 div.sk-item {position: relative;z-index: 1;}#sk-container-id-6 div.sk-parallel {display: flex;align-items: stretch;justify-content: center;background-color: white;position: relative;}#sk-container-id-6 div.sk-item::before, #sk-container-id-6 div.sk-parallel-item::before {content: \"\";position: absolute;border-left: 1px solid gray;box-sizing: border-box;top: 0;bottom: 0;left: 50%;z-index: -1;}#sk-container-id-6 div.sk-parallel-item {display: flex;flex-direction: column;z-index: 1;position: relative;background-color: white;}#sk-container-id-6 div.sk-parallel-item:first-child::after {align-self: flex-end;width: 50%;}#sk-container-id-6 div.sk-parallel-item:last-child::after {align-self: flex-start;width: 50%;}#sk-container-id-6 div.sk-parallel-item:only-child::after {width: 0;}#sk-container-id-6 div.sk-dashed-wrapped {border: 1px dashed gray;margin: 0 0.4em 0.5em 0.4em;box-sizing: border-box;padding-bottom: 0.4em;background-color: white;}#sk-container-id-6 div.sk-label label {font-family: monospace;font-weight: bold;display: inline-block;line-height: 1.2em;}#sk-container-id-6 div.sk-label-container {text-align: center;}#sk-container-id-6 div.sk-container {/* jupyter's `normalize.less` sets `[hidden] { display: none; }` but bootstrap.min.css set `[hidden] { display: none !important; }` so we also need the `!important` here to be able to override the default hidden behavior on the sphinx rendered scikit-learn.org. See: https://github.com/scikit-learn/scikit-learn/issues/21755 */display: inline-block !important;position: relative;}#sk-container-id-6 div.sk-text-repr-fallback {display: none;}</style><div id=\"sk-container-id-6\" class=\"sk-top-container\"><div class=\"sk-text-repr-fallback\"><pre>Pipeline(steps=[(&#x27;polynomialfeatures&#x27;, PolynomialFeatures()),\n",
       "                (&#x27;standardscaler&#x27;, StandardScaler()),\n",
       "                (&#x27;randomizedsearchcv&#x27;,\n",
       "                 RandomizedSearchCV(cv=5,\n",
       "                                    estimator=SGDRegressor(random_state=42),\n",
       "                                    n_iter=6,\n",
       "                                    param_distributions={&#x27;alpha&#x27;: [0.1, 0.01,\n",
       "                                                                   0.001,\n",
       "                                                                   0.0001],\n",
       "                                                         &#x27;eta0&#x27;: [0.01, 0.001,\n",
       "                                                                  0.0001],\n",
       "                                                         &#x27;l1_ratio&#x27;: [1, 0.7,\n",
       "                                                                      0.5, 0.2,\n",
       "                                                                      0],\n",
       "                                                         &#x27;max_iter&#x27;: [500,\n",
       "                                                                      1000],\n",
       "                                                         &#x27;penalty&#x27;: [&#x27;l2&#x27;, &#x27;l1&#x27;,\n",
       "                                                                     &#x27;elasticnet&#x27;,\n",
       "                                                                     None]},\n",
       "                                    verbose=True))])</pre><b>In a Jupyter environment, please rerun this cell to show the HTML representation or trust the notebook. <br />On GitHub, the HTML representation is unable to render, please try loading this page with nbviewer.org.</b></div><div class=\"sk-container\" hidden><div class=\"sk-item sk-dashed-wrapped\"><div class=\"sk-label-container\"><div class=\"sk-label sk-toggleable\"><input class=\"sk-toggleable__control sk-hidden--visually\" id=\"sk-estimator-id-25\" type=\"checkbox\" ><label for=\"sk-estimator-id-25\" class=\"sk-toggleable__label sk-toggleable__label-arrow\">Pipeline</label><div class=\"sk-toggleable__content\"><pre>Pipeline(steps=[(&#x27;polynomialfeatures&#x27;, PolynomialFeatures()),\n",
       "                (&#x27;standardscaler&#x27;, StandardScaler()),\n",
       "                (&#x27;randomizedsearchcv&#x27;,\n",
       "                 RandomizedSearchCV(cv=5,\n",
       "                                    estimator=SGDRegressor(random_state=42),\n",
       "                                    n_iter=6,\n",
       "                                    param_distributions={&#x27;alpha&#x27;: [0.1, 0.01,\n",
       "                                                                   0.001,\n",
       "                                                                   0.0001],\n",
       "                                                         &#x27;eta0&#x27;: [0.01, 0.001,\n",
       "                                                                  0.0001],\n",
       "                                                         &#x27;l1_ratio&#x27;: [1, 0.7,\n",
       "                                                                      0.5, 0.2,\n",
       "                                                                      0],\n",
       "                                                         &#x27;max_iter&#x27;: [500,\n",
       "                                                                      1000],\n",
       "                                                         &#x27;penalty&#x27;: [&#x27;l2&#x27;, &#x27;l1&#x27;,\n",
       "                                                                     &#x27;elasticnet&#x27;,\n",
       "                                                                     None]},\n",
       "                                    verbose=True))])</pre></div></div></div><div class=\"sk-serial\"><div class=\"sk-item\"><div class=\"sk-estimator sk-toggleable\"><input class=\"sk-toggleable__control sk-hidden--visually\" id=\"sk-estimator-id-26\" type=\"checkbox\" ><label for=\"sk-estimator-id-26\" class=\"sk-toggleable__label sk-toggleable__label-arrow\">PolynomialFeatures</label><div class=\"sk-toggleable__content\"><pre>PolynomialFeatures()</pre></div></div></div><div class=\"sk-item\"><div class=\"sk-estimator sk-toggleable\"><input class=\"sk-toggleable__control sk-hidden--visually\" id=\"sk-estimator-id-27\" type=\"checkbox\" ><label for=\"sk-estimator-id-27\" class=\"sk-toggleable__label sk-toggleable__label-arrow\">StandardScaler</label><div class=\"sk-toggleable__content\"><pre>StandardScaler()</pre></div></div></div><div class=\"sk-item sk-dashed-wrapped\"><div class=\"sk-label-container\"><div class=\"sk-label sk-toggleable\"><input class=\"sk-toggleable__control sk-hidden--visually\" id=\"sk-estimator-id-28\" type=\"checkbox\" ><label for=\"sk-estimator-id-28\" class=\"sk-toggleable__label sk-toggleable__label-arrow\">randomizedsearchcv: RandomizedSearchCV</label><div class=\"sk-toggleable__content\"><pre>RandomizedSearchCV(cv=5, estimator=SGDRegressor(random_state=42), n_iter=6,\n",
       "                   param_distributions={&#x27;alpha&#x27;: [0.1, 0.01, 0.001, 0.0001],\n",
       "                                        &#x27;eta0&#x27;: [0.01, 0.001, 0.0001],\n",
       "                                        &#x27;l1_ratio&#x27;: [1, 0.7, 0.5, 0.2, 0],\n",
       "                                        &#x27;max_iter&#x27;: [500, 1000],\n",
       "                                        &#x27;penalty&#x27;: [&#x27;l2&#x27;, &#x27;l1&#x27;, &#x27;elasticnet&#x27;,\n",
       "                                                    None]},\n",
       "                   verbose=True)</pre></div></div></div><div class=\"sk-parallel\"><div class=\"sk-parallel-item\"><div class=\"sk-item\"><div class=\"sk-label-container\"><div class=\"sk-label sk-toggleable\"><input class=\"sk-toggleable__control sk-hidden--visually\" id=\"sk-estimator-id-29\" type=\"checkbox\" ><label for=\"sk-estimator-id-29\" class=\"sk-toggleable__label sk-toggleable__label-arrow\">estimator: SGDRegressor</label><div class=\"sk-toggleable__content\"><pre>SGDRegressor(random_state=42)</pre></div></div></div><div class=\"sk-serial\"><div class=\"sk-item\"><div class=\"sk-estimator sk-toggleable\"><input class=\"sk-toggleable__control sk-hidden--visually\" id=\"sk-estimator-id-30\" type=\"checkbox\" ><label for=\"sk-estimator-id-30\" class=\"sk-toggleable__label sk-toggleable__label-arrow\">SGDRegressor</label><div class=\"sk-toggleable__content\"><pre>SGDRegressor(random_state=42)</pre></div></div></div></div></div></div></div></div></div></div></div></div>"
      ],
      "text/plain": [
       "Pipeline(steps=[('polynomialfeatures', PolynomialFeatures()),\n",
       "                ('standardscaler', StandardScaler()),\n",
       "                ('randomizedsearchcv',\n",
       "                 RandomizedSearchCV(cv=5,\n",
       "                                    estimator=SGDRegressor(random_state=42),\n",
       "                                    n_iter=6,\n",
       "                                    param_distributions={'alpha': [0.1, 0.01,\n",
       "                                                                   0.001,\n",
       "                                                                   0.0001],\n",
       "                                                         'eta0': [0.01, 0.001,\n",
       "                                                                  0.0001],\n",
       "                                                         'l1_ratio': [1, 0.7,\n",
       "                                                                      0.5, 0.2,\n",
       "                                                                      0],\n",
       "                                                         'max_iter': [500,\n",
       "                                                                      1000],\n",
       "                                                         'penalty': ['l2', 'l1',\n",
       "                                                                     'elasticnet',\n",
       "                                                                     None]},\n",
       "                                    verbose=True))])"
      ]
     },
     "execution_count": 53,
     "metadata": {},
     "output_type": "execute_result"
    }
   ],
   "source": [
    "%%time\n",
    "# Create a hyperparameter grid for SGDRegression \n",
    "sgd_grid = {'penalty': [\"l2\", \"l1\", \"elasticnet\", None],\n",
    "            'eta0': [0.01, 0.001, 0.0001],\n",
    "            'alpha': [0.1, 0.01, 0.001, 0.0001],\n",
    "            'l1_ratio': [1, 0.7, 0.5, 0.2, 0],\n",
    "            'max_iter': [500, 1000]}\n",
    "\n",
    "# Instantiate RamdomizedSearchCV model\n",
    "model = RandomizedSearchCV(SGDRegressor(random_state=42),\n",
    "                              param_distributions=sgd_grid,\n",
    "                              n_iter = 6,\n",
    "                              cv=5,\n",
    "                              verbose=True)\n",
    "\n",
    "rs_model= make_pipeline(PolynomialFeatures(),\n",
    "                        StandardScaler(),\n",
    "                         model)\n",
    "\n",
    "# Fit the RandomizedSearchCV model\n",
    "rs_model.fit(X_train, y_train)"
   ]
  },
  {
   "cell_type": "code",
   "execution_count": 55,
   "id": "6e8a9784-fb60-43ae-9ee4-6ff7a1a6acb4",
   "metadata": {},
   "outputs": [
    {
     "data": {
      "text/plain": [
       "{'Training MAE': 3526.5174201108994,\n",
       " 'Trainining MSE': 32251343.11859031,\n",
       " 'Training R2': 0.93738785552409}"
      ]
     },
     "execution_count": 55,
     "metadata": {},
     "output_type": "execute_result"
    }
   ],
   "source": [
    "show_score(rs_model)"
   ]
  },
  {
   "cell_type": "markdown",
   "id": "9be5257d-ee4b-46b0-a74f-dd73a2a15b01",
   "metadata": {},
   "source": [
    "### Make predictions with tuned Model"
   ]
  },
  {
   "cell_type": "code",
   "execution_count": 32,
   "id": "da1450b8-0bec-4dea-8217-671402be48cb",
   "metadata": {},
   "outputs": [],
   "source": [
    "y_preds = rs_model.predict(X_test)"
   ]
  },
  {
   "cell_type": "code",
   "execution_count": 33,
   "id": "2758ec67-3474-417d-8676-9d6abb462f2f",
   "metadata": {},
   "outputs": [
    {
     "data": {
      "text/plain": [
       "array([ 3181.9975138 , 53423.03486073,  6265.84593598, ...,\n",
       "       59223.7921008 , 29355.10290792,  7485.49831701])"
      ]
     },
     "execution_count": 33,
     "metadata": {},
     "output_type": "execute_result"
    }
   ],
   "source": [
    "y_preds"
   ]
  },
  {
   "cell_type": "markdown",
   "id": "9331bd1e-7e44-4f5f-a4d7-a163b30a6216",
   "metadata": {},
   "source": [
    "## 7. Feature Importance\n",
    "\n",
    "Feature importance seeks to figure out which different attributes of the data were most important when it comes to predicting the target variable (price)"
   ]
  },
  {
   "cell_type": "code",
   "execution_count": 57,
   "id": "c63dc9f9-069d-4acf-af06-ad1f7e9c0807",
   "metadata": {},
   "outputs": [],
   "source": [
    "from sklearn.inspection import permutation_importance"
   ]
  },
  {
   "cell_type": "code",
   "execution_count": 149,
   "id": "956ac49b-8cba-4bee-bc7c-d2163dceb05b",
   "metadata": {},
   "outputs": [],
   "source": [
    "feat_imp = permutation_importance(rs_model, X_train, y_train, n_repeats=10)\n"
   ]
  },
  {
   "cell_type": "code",
   "execution_count": 155,
   "id": "4a396d3d-892f-452b-8f02-14510234d34e",
   "metadata": {},
   "outputs": [
    {
     "data": {
      "text/plain": [
       "{'importances_mean': array([2.92832456e-02, 7.06683934e-03, 2.43196112e-03, 3.21866555e-04,\n",
       "        5.88713614e-02, 1.77372468e-03, 3.50021355e-03, 1.63987401e+00,\n",
       "        9.26585632e-03, 1.81279783e-02]),\n",
       " 'importances_std': array([1.65063550e-04, 5.82247376e-05, 2.57710740e-05, 1.58324464e-05,\n",
       "        3.15208499e-04, 4.89267118e-05, 6.21037448e-05, 3.32120559e-03,\n",
       "        8.74481102e-05, 5.98108477e-05]),\n",
       " 'importances': array([[2.94372014e-02, 2.91365806e-02, 2.94681329e-02, 2.95153313e-02,\n",
       "         2.93337519e-02, 2.93445602e-02, 2.92737059e-02, 2.91642251e-02,\n",
       "         2.89460774e-02, 2.92128890e-02],\n",
       "        [7.08154119e-03, 7.02126622e-03, 7.12156626e-03, 6.95895364e-03,\n",
       "         7.00795657e-03, 7.04638883e-03, 7.16417356e-03, 7.06022186e-03,\n",
       "         7.08157703e-03, 7.12474826e-03],\n",
       "        [2.46350427e-03, 2.43097939e-03, 2.42973446e-03, 2.38889309e-03,\n",
       "         2.48196165e-03, 2.41438539e-03, 2.45021091e-03, 2.41846155e-03,\n",
       "         2.41050144e-03, 2.43097911e-03],\n",
       "        [3.08763862e-04, 3.14875419e-04, 3.15367230e-04, 3.21421982e-04,\n",
       "         3.46498073e-04, 3.00619570e-04, 3.41400095e-04, 3.00180411e-04,\n",
       "         3.35362990e-04, 3.34175915e-04],\n",
       "        [5.86765845e-02, 5.87745528e-02, 5.90969845e-02, 5.90465207e-02,\n",
       "         5.91604206e-02, 5.86638026e-02, 5.89409732e-02, 5.94542158e-02,\n",
       "         5.83119310e-02, 5.85876287e-02],\n",
       "        [1.82268399e-03, 1.74333673e-03, 1.78630738e-03, 1.76285409e-03,\n",
       "         1.71899761e-03, 1.72597627e-03, 1.81368163e-03, 1.69951820e-03,\n",
       "         1.85627501e-03, 1.80761593e-03],\n",
       "        [3.55351442e-03, 3.39494185e-03, 3.54802842e-03, 3.50001512e-03,\n",
       "         3.44937983e-03, 3.43044286e-03, 3.58055867e-03, 3.53718890e-03,\n",
       "         3.56342812e-03, 3.44463727e-03],\n",
       "        [1.63821479e+00, 1.64035039e+00, 1.64483795e+00, 1.64597633e+00,\n",
       "         1.63474780e+00, 1.63714192e+00, 1.64157666e+00, 1.64010666e+00,\n",
       "         1.63722026e+00, 1.63856736e+00],\n",
       "        [9.32061095e-03, 9.18288162e-03, 9.22188923e-03, 9.24136266e-03,\n",
       "         9.32200393e-03, 9.30197578e-03, 9.23672828e-03, 9.09373339e-03,\n",
       "         9.30554238e-03, 9.43183495e-03],\n",
       "        [1.80578790e-02, 1.80529218e-02, 1.80856581e-02, 1.82098751e-02,\n",
       "         1.82101358e-02, 1.81730282e-02, 1.80708782e-02, 1.81855852e-02,\n",
       "         1.81406239e-02, 1.80931978e-02]])}"
      ]
     },
     "execution_count": 155,
     "metadata": {},
     "output_type": "execute_result"
    }
   ],
   "source": [
    "feat_imp"
   ]
  },
  {
   "cell_type": "code",
   "execution_count": 178,
   "id": "0550b049-9784-4205-aa1c-8a6199c20152",
   "metadata": {},
   "outputs": [],
   "source": [
    "feat_df = pd.DataFrame(feat_imp['importances_mean'], index=X.columns, columns=['Feature_Importance'])"
   ]
  },
  {
   "cell_type": "code",
   "execution_count": 179,
   "id": "95c8fa03-5d43-4b71-aaf2-80deeafb9b51",
   "metadata": {},
   "outputs": [
    {
     "data": {
      "text/html": [
       "<div>\n",
       "<style scoped>\n",
       "    .dataframe tbody tr th:only-of-type {\n",
       "        vertical-align: middle;\n",
       "    }\n",
       "\n",
       "    .dataframe tbody tr th {\n",
       "        vertical-align: top;\n",
       "    }\n",
       "\n",
       "    .dataframe thead th {\n",
       "        text-align: right;\n",
       "    }\n",
       "</style>\n",
       "<table border=\"1\" class=\"dataframe\">\n",
       "  <thead>\n",
       "    <tr style=\"text-align: right;\">\n",
       "      <th></th>\n",
       "      <th>Feature_Importance</th>\n",
       "    </tr>\n",
       "  </thead>\n",
       "  <tbody>\n",
       "    <tr>\n",
       "      <th>airline</th>\n",
       "      <td>0.029283</td>\n",
       "    </tr>\n",
       "    <tr>\n",
       "      <th>flight</th>\n",
       "      <td>0.007067</td>\n",
       "    </tr>\n",
       "    <tr>\n",
       "      <th>source_city</th>\n",
       "      <td>0.002432</td>\n",
       "    </tr>\n",
       "    <tr>\n",
       "      <th>departure_time</th>\n",
       "      <td>0.000322</td>\n",
       "    </tr>\n",
       "    <tr>\n",
       "      <th>stops</th>\n",
       "      <td>0.058871</td>\n",
       "    </tr>\n",
       "    <tr>\n",
       "      <th>arrival_time</th>\n",
       "      <td>0.001774</td>\n",
       "    </tr>\n",
       "    <tr>\n",
       "      <th>destination_city</th>\n",
       "      <td>0.003500</td>\n",
       "    </tr>\n",
       "    <tr>\n",
       "      <th>class</th>\n",
       "      <td>1.639874</td>\n",
       "    </tr>\n",
       "    <tr>\n",
       "      <th>duration</th>\n",
       "      <td>0.009266</td>\n",
       "    </tr>\n",
       "    <tr>\n",
       "      <th>days_left</th>\n",
       "      <td>0.018128</td>\n",
       "    </tr>\n",
       "  </tbody>\n",
       "</table>\n",
       "</div>"
      ],
      "text/plain": [
       "                  Feature_Importance\n",
       "airline                     0.029283\n",
       "flight                      0.007067\n",
       "source_city                 0.002432\n",
       "departure_time              0.000322\n",
       "stops                       0.058871\n",
       "arrival_time                0.001774\n",
       "destination_city            0.003500\n",
       "class                       1.639874\n",
       "duration                    0.009266\n",
       "days_left                   0.018128"
      ]
     },
     "execution_count": 179,
     "metadata": {},
     "output_type": "execute_result"
    }
   ],
   "source": [
    "feat_df"
   ]
  },
  {
   "cell_type": "code",
   "execution_count": 180,
   "id": "081ae2f7-f3dc-440e-b9d7-0625d5541b83",
   "metadata": {},
   "outputs": [
    {
     "data": {
      "text/html": [
       "<div>\n",
       "<style scoped>\n",
       "    .dataframe tbody tr th:only-of-type {\n",
       "        vertical-align: middle;\n",
       "    }\n",
       "\n",
       "    .dataframe tbody tr th {\n",
       "        vertical-align: top;\n",
       "    }\n",
       "\n",
       "    .dataframe thead th {\n",
       "        text-align: right;\n",
       "    }\n",
       "</style>\n",
       "<table border=\"1\" class=\"dataframe\">\n",
       "  <thead>\n",
       "    <tr style=\"text-align: right;\">\n",
       "      <th></th>\n",
       "      <th>Feature_Importance</th>\n",
       "    </tr>\n",
       "  </thead>\n",
       "  <tbody>\n",
       "    <tr>\n",
       "      <th>departure_time</th>\n",
       "      <td>0.000322</td>\n",
       "    </tr>\n",
       "    <tr>\n",
       "      <th>arrival_time</th>\n",
       "      <td>0.001774</td>\n",
       "    </tr>\n",
       "    <tr>\n",
       "      <th>source_city</th>\n",
       "      <td>0.002432</td>\n",
       "    </tr>\n",
       "    <tr>\n",
       "      <th>destination_city</th>\n",
       "      <td>0.003500</td>\n",
       "    </tr>\n",
       "    <tr>\n",
       "      <th>flight</th>\n",
       "      <td>0.007067</td>\n",
       "    </tr>\n",
       "    <tr>\n",
       "      <th>duration</th>\n",
       "      <td>0.009266</td>\n",
       "    </tr>\n",
       "    <tr>\n",
       "      <th>days_left</th>\n",
       "      <td>0.018128</td>\n",
       "    </tr>\n",
       "    <tr>\n",
       "      <th>airline</th>\n",
       "      <td>0.029283</td>\n",
       "    </tr>\n",
       "    <tr>\n",
       "      <th>stops</th>\n",
       "      <td>0.058871</td>\n",
       "    </tr>\n",
       "    <tr>\n",
       "      <th>class</th>\n",
       "      <td>1.639874</td>\n",
       "    </tr>\n",
       "  </tbody>\n",
       "</table>\n",
       "</div>"
      ],
      "text/plain": [
       "                  Feature_Importance\n",
       "departure_time              0.000322\n",
       "arrival_time                0.001774\n",
       "source_city                 0.002432\n",
       "destination_city            0.003500\n",
       "flight                      0.007067\n",
       "duration                    0.009266\n",
       "days_left                   0.018128\n",
       "airline                     0.029283\n",
       "stops                       0.058871\n",
       "class                       1.639874"
      ]
     },
     "execution_count": 180,
     "metadata": {},
     "output_type": "execute_result"
    }
   ],
   "source": [
    "(feat_df.sort_values(by=[\"Feature_Importance\"],ascending=True, inplace=True))\n",
    "feat_df"
   ]
  },
  {
   "cell_type": "code",
   "execution_count": 181,
   "id": "d38a35b4-e9ff-44ff-84b6-90aff842df77",
   "metadata": {},
   "outputs": [
    {
     "data": {
      "text/plain": [
       "Text(0.5, 0, 'feature Importance')"
      ]
     },
     "execution_count": 181,
     "metadata": {},
     "output_type": "execute_result"
    },
    {
     "data": {
      "image/png": "[encoded data removed]",
      "text/plain": [
       "<Figure size 700x700 with 1 Axes>"
      ]
     },
     "metadata": {},
     "output_type": "display_data"
    }
   ],
   "source": [
    "fig, ax = plt.subplots(figsize=(7,7))\n",
    "\n",
    "ax.barh(feat_df.index, feat_df[\"Feature_Importance\"], height=0.6)\n",
    "ax.set_ylabel(\"features\")\n",
    "ax.set_xlabel(\"feature Importance\")"
   ]
  }
 ],
 "metadata": {
  "kernelspec": {
   "display_name": "Python 3 (ipykernel)",
   "language": "python",
   "name": "python3"
  },
  "language_info": {
   "codemirror_mode": {
    "name": "ipython",
    "version": 3
   },
   "file_extension": ".py",
   "mimetype": "text/x-python",
   "name": "python",
   "nbconvert_exporter": "python",
   "pygments_lexer": "ipython3",
   "version": "3.10.13"
  }
 },
 "nbformat": 4,
 "nbformat_minor": 5
}
